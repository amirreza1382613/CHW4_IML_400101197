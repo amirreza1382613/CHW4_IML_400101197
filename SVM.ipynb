{
  "nbformat": 4,
  "nbformat_minor": 0,
  "metadata": {
    "colab": {
      "provenance": []
    },
    "kernelspec": {
      "name": "python3",
      "display_name": "Python 3"
    },
    "language_info": {
      "name": "python"
    }
  },
  "cells": [
    {
      "cell_type": "markdown",
      "source": [
        "<h1 align=\"center\">Introduction to Machine Learning - 25737-2</h1>\n",
        "<h4 align=\"center\">Dr. R. Amiri</h4>\n",
        "<h4 align=\"center\">Sharif University of Technology, Spring 2024</h4>\n",
        "\n",
        "\n",
        "**<font color='red'>Plagiarism is strongly prohibited!</font>**\n",
        "\n",
        "\n",
        "**Student Name**:\n",
        "\n",
        "**Student ID**:\n"
      ],
      "metadata": {
        "id": "I8eZGMPb-GlP"
      }
    },
    {
      "cell_type": "markdown",
      "source": [
        "# ****Support Vector Machines****"
      ],
      "metadata": {
        "id": "PZR9dmJu-U97"
      }
    },
    {
      "cell_type": "markdown",
      "source": [
        "In this notebook, you will implement SVM for three datasets. You will become more familiar with the Soft-Margin SVM and the Kernel trick, which makes SVM extremely powerful.\n",
        "\n",
        "Before we start our implementation, you must be comfortable with the theoretical details of the Soft-Margin SVM as an optimization problem and be able to derive the dual formulation for this problem. In the next sections, you will solve the dual optimization problem for all datasets using the CVXPY library, which has been developed for solving convex optimization problems. To get more familiar with CVXPY programming, you can use this [link](https://www.cvxpy.org)."
      ],
      "metadata": {
        "id": "zL8V07IE-a-K"
      }
    },
    {
      "cell_type": "markdown",
      "source": [
        "This is the primal formulation for the Soft-Margin SVM for linearly separable data with slack variables $\\xi_i \\ge 0$:\n",
        "\n",
        "\\begin{equation*}\n",
        "\\begin{aligned}\n",
        "& {\\text{min.}}\n",
        "& & \\frac{1}{2} \\|w\\|^2 + C \\sum_{i=1}^{N} \\xi_i \\\\\n",
        "& \\text{s.t.}\n",
        "& & y_i(w^T x_i + b) \\geq 1 - \\xi_i, \\; i = 1, \\ldots, N \\\\\n",
        "& & & \\xi_i \\geq 0, \\; i = 1, \\ldots, N\n",
        "\\end{aligned}\n",
        "\\end{equation*}\n",
        "\n",
        "Where $w$ represents the weight vector, $b$ is the bias term, and $C$ is the regularization parameter controlling the trade-off between a wide margin and misclassification."
      ],
      "metadata": {
        "id": "XPxlNYRjA2-q"
      }
    },
    {
      "cell_type": "markdown",
      "source": [
        "**Theoretical Questions:**\n",
        "\n",
        "1) Derive the dual optimization problem for the Soft-Margin SVM.\n",
        "\n",
        "2) How do we calculate the weights and bias ($w$ and $b$) using the dual problem optimum points?\n",
        "\n",
        "3) How do we classify new data points using the optimal weights and bias?"
      ],
      "metadata": {
        "id": "OstJ2GITCHPL"
      }
    },
    {
      "cell_type": "markdown",
      "source": [
        "<font color='green'>Write down your answers as markdown here.</font>"
      ],
      "metadata": {
        "id": "cAWGsmGmDU5L"
      }
    },
    {
      "cell_type": "markdown",
      "source": [
        "Sometimes, the data is not linearly separable. Therefore, the previous formulation of the Soft-Margin SVM does not give a good accuracy for the classification problem. The Kernel trick is a technique used in such situations. Consider $x$ as your input features with dimension $p$. One can use function $\\phi: R^p → R^d$ to map the input features to another space with dimension $d$. Finding good $\\phi$ such that data points become near linearly separable makes the previous formulation of the problem and its dual useful by replacing $\\phi(x_i)$ for $x_i$ in the problem definition. The function $\\phi(x)$ can even be a mapping to an infinite-dimensional space.\n",
        "\n",
        "If you have found the correct dual form of the Soft-Margin SVM in the previous formulation, you can see that the terms $x_i^T x_j$ will appear in the problem formulation and the prediction rule. These terms will be replaced with $\\phi(x_i)^T \\phi(x_j)$ when we use $\\phi$ as our feature mapping function. Given a feature mapping $\\phi$ we define its corresponding **Kernel** to be:\n",
        "\n",
        "\\begin{equation*}\n",
        "\\begin{aligned}\n",
        "& K(x, z) = \\phi(x)^T \\phi(z)\n",
        "\\end{aligned}\n",
        "\\end{equation*}\n",
        "\n",
        "Hence, in the dual optimization problem and the prediction rule of the Soft-Margin SVM, we can replace all terms in the form $x^T z$ with $K(x, z)$. This technique is called the Kernel trick.\n",
        "\n",
        "Now, given $\\phi$, we could easily compute $K(x,z)$ by finding $\\phi(x)$ and $\\phi(z)$ and taking their inner product. But what’s more interesting is that often, $K(x,z)$ may be very inexpensive to calculate, even though $\\phi(x)$ itself may be very expensive to calculate (perhaps because it is an extremely high-dimensional vector). Check Stanford's CS229 [notes](https://see.stanford.edu/materials/aimlcs229/cs229-notes3.pdf) on SVM and the Kernel trick for more details and examples."
      ],
      "metadata": {
        "id": "ZWwD5PXLEPdR"
      }
    },
    {
      "cell_type": "markdown",
      "source": [
        "## Libraries"
      ],
      "metadata": {
        "id": "AsW6iuw1U_jv"
      }
    },
    {
      "cell_type": "markdown",
      "source": [
        "Here are some useful libraries for the implementation. You can add or remove any libraries as you wish. Note that you cannot use sklearn or similar libraries for implementation."
      ],
      "metadata": {
        "id": "ulrV4dEhVCQq"
      }
    },
    {
      "cell_type": "code",
      "source": [
        "import numpy as np\n",
        "import matplotlib.pyplot as plt\n",
        "import pandas as pd\n",
        "from sklearn.model_selection import train_test_split\n",
        "from sklearn.preprocessing import StandardScaler\n",
        "from sklearn.metrics import classification_report\n",
        "import cvxpy as cp"
      ],
      "metadata": {
        "id": "RRB7ZlBqVTEV"
      },
      "execution_count": null,
      "outputs": []
    },
    {
      "cell_type": "markdown",
      "source": [
        "## **Dataset Exploration**"
      ],
      "metadata": {
        "id": "yJCgsLp4QJtl"
      }
    },
    {
      "cell_type": "markdown",
      "source": [
        "In this notebook, you'll be working with three datasets, specifically named \"DF1.csv\", \"DF2.csv\", and \"DF3.csv\". Each dataset entry is composed of a 2-dimensional feature vector and a label, which is either \"1\" or \"-1\". The primary objective of this notebook is to leverage SVM to develop a robust classifier for each dataset.\n",
        "\n",
        "You are given three kernels as follows:\n",
        "\n",
        "\n",
        "\n",
        "1.   Linear Kernel: $K(x, z) = x^T z$\n",
        "2.   Polynomial Kernel of degree 2: $K(x, z) = (1 + ∑_{i = 1}^{p} x_i z_i)^2$, where $p$ is the dimension of the feature space.\n",
        "3.   RBF Kernel: $K(x, z) = e^{-\\frac{||x-z||_2^2}{2σ^2}}$\n",
        "\n",
        "Before implementing, you must choose the correct kernel for each dataset. Note that each kernel must be used exactly for one dataset. Therefore, you cannot use one of the kernels twice. As a part of our grading scheme, what matters with respect to accuracy is the sum of the accuracies you reach for all three datasets, and the accuracy of each model does not have any separate score. Thus, it would help if you chose the most appropriate kernel for each dataset so that all datasets reach a reasonably good accuracy.\n",
        "\n",
        "\n",
        "\n"
      ],
      "metadata": {
        "id": "4he9swfSQ8E-"
      }
    },
    {
      "cell_type": "markdown",
      "source": [
        "Load all datasets and show the first 5 rows of each."
      ],
      "metadata": {
        "id": "e8aHoi0ZUY0o"
      }
    },
    {
      "cell_type": "code",
      "source": [
        "## YOUR CODE HERE\n"
      ],
      "metadata": {
        "id": "VCFSdyI6REpS"
      },
      "execution_count": null,
      "outputs": []
    },
    {
      "cell_type": "markdown",
      "source": [
        "Use the following function to visualize the datapoints for all datasets."
      ],
      "metadata": {
        "id": "tlH9BBtdUkQG"
      }
    },
    {
      "cell_type": "code",
      "source": [
        "def visualize_data(X, y):\n",
        "  col = []\n",
        "  for i in range(len(y)):\n",
        "    if y[i] == 1:\n",
        "      col.append('red')\n",
        "    else:\n",
        "      col.append('blue')\n",
        "  plt.scatter(X[ : , 0], X[ : , 1], color = col)\n",
        "  plt.show()\n",
        "\n",
        "## YOUR CODE HERE\n"
      ],
      "metadata": {
        "id": "ZJXxa8mPUjel"
      },
      "execution_count": null,
      "outputs": []
    },
    {
      "cell_type": "markdown",
      "source": [
        "**Theoretical Question:**\n",
        "\n",
        "Which kernel will you use for each dataset? Justify your answer.\n",
        "\n",
        "Note: your implementation must follow your choice here. Otherwise, you do not recieve any points for your implemetation."
      ],
      "metadata": {
        "id": "4Z4mn4ADVwqJ"
      }
    },
    {
      "cell_type": "markdown",
      "source": [
        "<font color='green'>Write down your answers as markdown here.</font>"
      ],
      "metadata": {
        "id": "11zXhFE0V9ws"
      }
    },
    {
      "cell_type": "markdown",
      "source": [
        "## Dataset one (DF1.csv)"
      ],
      "metadata": {
        "id": "5uApej98WtyV"
      }
    },
    {
      "cell_type": "markdown",
      "source": [
        "Split the dataset into train and test sets (20 percent for test). Use 42 as the random state and do not forget to scale the data."
      ],
      "metadata": {
        "id": "zIhMQnmMWzM9"
      }
    },
    {
      "cell_type": "code",
      "source": [
        "## YOUR CODE HERE\n"
      ],
      "metadata": {
        "id": "kKEM5LrQXQh-"
      },
      "execution_count": null,
      "outputs": []
    },
    {
      "cell_type": "markdown",
      "source": [
        "Use CVXPY to solve the dual problem with the appropriate kernel using the training set."
      ],
      "metadata": {
        "id": "Dw1ITF7aXTmP"
      }
    },
    {
      "cell_type": "code",
      "source": [
        "## YOUR CODE HERE\n"
      ],
      "metadata": {
        "id": "JJPvPhuyXoKf"
      },
      "execution_count": null,
      "outputs": []
    },
    {
      "cell_type": "markdown",
      "source": [
        "Predict the class of each entry in the test set using your learned model."
      ],
      "metadata": {
        "id": "2V4Od6gNXvvf"
      }
    },
    {
      "cell_type": "code",
      "source": [
        "## YOUR CODE HERE\n"
      ],
      "metadata": {
        "id": "H-9IAxakX29p"
      },
      "execution_count": null,
      "outputs": []
    },
    {
      "cell_type": "markdown",
      "source": [
        "Use classification_report function (from sklearn) to get the accuracy of your model."
      ],
      "metadata": {
        "id": "VqcU4jhBX5Tv"
      }
    },
    {
      "cell_type": "code",
      "source": [
        "## YOUR CODE HERE"
      ],
      "metadata": {
        "id": "2XrEJQ2QYCcR"
      },
      "execution_count": null,
      "outputs": []
    },
    {
      "cell_type": "markdown",
      "source": [
        "## Dataset two (DF2.csv)"
      ],
      "metadata": {
        "id": "QN4wBbNEYXvS"
      }
    },
    {
      "cell_type": "markdown",
      "source": [
        "Split the dataset into train and test sets (20 percent for test). Use 42 as the random state and do not forget to scale the data."
      ],
      "metadata": {
        "id": "DFxagUuuYXvS"
      }
    },
    {
      "cell_type": "code",
      "source": [
        "## YOUR CODE HERE\n"
      ],
      "metadata": {
        "id": "onEe_NAeYXvS"
      },
      "execution_count": null,
      "outputs": []
    },
    {
      "cell_type": "markdown",
      "source": [
        "Use CVXPY to solve the dual problem with the appropriate kernel using the training set."
      ],
      "metadata": {
        "id": "yeFzQ7PEYXvT"
      }
    },
    {
      "cell_type": "code",
      "source": [
        "## YOUR CODE HERE\n"
      ],
      "metadata": {
        "id": "2uS40Nv2YXvU"
      },
      "execution_count": null,
      "outputs": []
    },
    {
      "cell_type": "markdown",
      "source": [
        "Predict the class of each entry in the test set using your learned model."
      ],
      "metadata": {
        "id": "9tgg8gvyYXvU"
      }
    },
    {
      "cell_type": "code",
      "source": [
        "## YOUR CODE HERE\n"
      ],
      "metadata": {
        "id": "7QVwa-jlYXvU"
      },
      "execution_count": null,
      "outputs": []
    },
    {
      "cell_type": "markdown",
      "source": [
        "Use classification_report function (from sklearn) to get the accuracy of your model."
      ],
      "metadata": {
        "id": "6FEgkFDvYXvV"
      }
    },
    {
      "cell_type": "code",
      "source": [
        "## YOUR CODE HERE\n"
      ],
      "metadata": {
        "id": "B4XtwtAdYXvV"
      },
      "execution_count": null,
      "outputs": []
    },
    {
      "cell_type": "markdown",
      "source": [
        "## Dataset three (DF3.csv)"
      ],
      "metadata": {
        "id": "g8G-gVTXYZ2R"
      }
    },
    {
      "cell_type": "markdown",
      "source": [
        "Split the dataset into train and test sets (20 percent for test). Use 42 as the random state and do not forget to scale the data."
      ],
      "metadata": {
        "id": "PoXVLKNFYZ2R"
      }
    },
    {
      "cell_type": "code",
      "source": [
        "## YOUR CODE HERE\n"
      ],
      "metadata": {
        "id": "BDbYV9dIYZ2S"
      },
      "execution_count": null,
      "outputs": []
    },
    {
      "cell_type": "markdown",
      "source": [
        "Use CVXPY to solve the dual problem with the appropriate kernel using the training set."
      ],
      "metadata": {
        "id": "nUGJAmMhYZ2S"
      }
    },
    {
      "cell_type": "code",
      "source": [
        "## YOUR CODE HERE\n"
      ],
      "metadata": {
        "id": "wFQiz6inYZ2S"
      },
      "execution_count": null,
      "outputs": []
    },
    {
      "cell_type": "markdown",
      "source": [
        "Predict the class of each entry in the test set using your learned model."
      ],
      "metadata": {
        "id": "ICETgzlyYZ2T"
      }
    },
    {
      "cell_type": "code",
      "source": [
        "## YOUR CODE HERE\n"
      ],
      "metadata": {
        "id": "0juJrHMEYZ2T"
      },
      "execution_count": null,
      "outputs": []
    },
    {
      "cell_type": "markdown",
      "source": [
        "Use classification_report function (from sklearn) to get the accuracy of your model."
      ],
      "metadata": {
        "id": "6ZGqGA4IYZ2T"
      }
    },
    {
      "cell_type": "code",
      "source": [
        "## YOUR CODE HERE\n"
      ],
      "metadata": {
        "id": "oCAiDwuNYZ2U"
      },
      "execution_count": null,
      "outputs": []
    }
  ]
}